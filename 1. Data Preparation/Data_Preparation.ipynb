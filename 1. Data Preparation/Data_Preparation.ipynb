{
 "cells": [
  {
   "cell_type": "code",
   "execution_count": 26,
   "id": "e68f23ec-71d9-4c7e-b073-e0bf25f53103",
   "metadata": {},
   "outputs": [],
   "source": [
    "import numpy as np\n",
    "import pandas as pd\n",
    "import cv2\n",
    "import PIL\n",
    "import pytesseract\n",
    "import os \n",
    "from glob import glob\n",
    "from tqdm import tqdm\n",
    "import warnings\n",
    "warnings.filterwarnings('ignore')"
   ]
  },
  {
   "cell_type": "code",
   "execution_count": 27,
   "id": "5b16cd34-e305-4a29-90a7-a3512e2a63ff",
   "metadata": {},
   "outputs": [],
   "source": [
    "img_paths = glob('../business_card/*.jpeg')"
   ]
  },
  {
   "cell_type": "code",
   "execution_count": 28,
   "id": "bb868276-275c-4292-b26b-461d6979c4a0",
   "metadata": {},
   "outputs": [
    {
     "name": "stderr",
     "output_type": "stream",
     "text": [
      "Business Card: 100%|████████████████████████████████████████████████████████████████████████████████████████████████████████████████████████████████████████████████| 293/293 [01:53<00:00,  2.57it/s]\n"
     ]
    }
   ],
   "source": [
    "all_business_card = pd.DataFrame(columns = ['id', 'text'])\n",
    "\n",
    "for img_path in tqdm(img_paths, desc=\"Business Card\"):\n",
    "    #imgPath = imgPaths[0]\n",
    "    _, filename = os.path.split(img_path)\n",
    "    # extract data and text    \n",
    "    image = cv2.imread(img_path)\n",
    "    data = pytesseract.image_to_data(image)\n",
    "    datalist = list(map(lambda x: x.split('\\t'), data.split('\\n')))\n",
    "    df = pd.DataFrame(datalist[1:], columns=datalist[0])\n",
    "    df.dropna(inplace=True)\n",
    "    df['conf'] = df['conf'].astype(int)\n",
    "    useFuldata = df.query('conf >= 30')\n",
    "\n",
    "    # Data\n",
    "    businesscard = pd.DataFrame()\n",
    "    businesscard['text'] = useFuldata['text']\n",
    "    businesscard['id'] = filename\n",
    "\n",
    "    #concatenation\n",
    "    all_business_card = pd.concat((all_business_card, businesscard))"
   ]
  },
  {
   "cell_type": "code",
   "execution_count": 29,
   "id": "51777b2a-a68f-4b72-bcf7-12904d2b16fc",
   "metadata": {},
   "outputs": [],
   "source": [
    "all_business_card.to_csv('businesscard.csv', index=False)"
   ]
  },
  {
   "cell_type": "code",
   "execution_count": null,
   "id": "a03d75f2-ab36-4fd4-a582-72af84fdbe51",
   "metadata": {},
   "outputs": [],
   "source": []
  },
  {
   "cell_type": "code",
   "execution_count": null,
   "id": "ec8106de-255a-40ee-b300-14c1a0d4c883",
   "metadata": {},
   "outputs": [],
   "source": []
  },
  {
   "cell_type": "code",
   "execution_count": null,
   "id": "e65cc01f-a24c-42b9-a668-3b5a755d7ad9",
   "metadata": {},
   "outputs": [],
   "source": []
  }
 ],
 "metadata": {
  "kernelspec": {
   "display_name": "Python 3 (ipykernel)",
   "language": "python",
   "name": "python3"
  },
  "language_info": {
   "codemirror_mode": {
    "name": "ipython",
    "version": 3
   },
   "file_extension": ".py",
   "mimetype": "text/x-python",
   "name": "python",
   "nbconvert_exporter": "python",
   "pygments_lexer": "ipython3",
   "version": "3.10.9"
  }
 },
 "nbformat": 4,
 "nbformat_minor": 5
}
